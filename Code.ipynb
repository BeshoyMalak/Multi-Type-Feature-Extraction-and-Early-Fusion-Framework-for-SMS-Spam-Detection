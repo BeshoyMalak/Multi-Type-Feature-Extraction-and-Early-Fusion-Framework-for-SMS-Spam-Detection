{
 "cells": [
  {
   "cell_type": "code",
   "execution_count": null,
   "metadata": {},
   "outputs": [],
   "source": [
    "import warnings\n",
    "warnings.filterwarnings(\"ignore\")\n",
    "\n",
    "import pandas as pd\n",
    "import numpy as np\n",
    "from sklearn.feature_extraction.text import TfidfVectorizer\n",
    "from tensorflow.keras.models import Sequential\n",
    "from tensorflow.keras.layers import Embedding, LSTM, Dense, Conv1D, GlobalMaxPooling1D, concatenate, Input, Attention\n",
    "from tensorflow.keras.models import Model\n",
    "from tensorflow.keras.preprocessing.text import Tokenizer\n",
    "from tensorflow.keras.preprocessing.sequence import pad_sequences\n",
    "\n",
    "from keras.preprocessing.text import Tokenizer\n",
    "from keras.preprocessing.sequence import pad_sequences\n",
    "from keras.models import Model\n",
    "from keras.layers import Input, Embedding, Conv1D, GlobalMaxPooling1D, LSTM, Dense, Dropout, Bidirectional, TimeDistributed, Flatten, concatenate\n",
    "from keras.optimizers import Adam\n",
    "from sklearn.model_selection import train_test_split\n",
    "from sklearn.feature_extraction.text import TfidfVectorizer\n",
    "from sklearn.preprocessing import LabelEncoder"
   ]
  },
  {
   "cell_type": "code",
   "execution_count": 2,
   "metadata": {},
   "outputs": [
    {
     "data": {
      "text/html": [
       "<div>\n",
       "<style scoped>\n",
       "    .dataframe tbody tr th:only-of-type {\n",
       "        vertical-align: middle;\n",
       "    }\n",
       "\n",
       "    .dataframe tbody tr th {\n",
       "        vertical-align: top;\n",
       "    }\n",
       "\n",
       "    .dataframe thead th {\n",
       "        text-align: right;\n",
       "    }\n",
       "</style>\n",
       "<table border=\"1\" class=\"dataframe\">\n",
       "  <thead>\n",
       "    <tr style=\"text-align: right;\">\n",
       "      <th></th>\n",
       "      <th>label</th>\n",
       "      <th>msg</th>\n",
       "    </tr>\n",
       "  </thead>\n",
       "  <tbody>\n",
       "    <tr>\n",
       "      <th>0</th>\n",
       "      <td>0</td>\n",
       "      <td>Go until jurong point, crazy.. Available only ...</td>\n",
       "    </tr>\n",
       "    <tr>\n",
       "      <th>1</th>\n",
       "      <td>0</td>\n",
       "      <td>Ok lar... Joking wif u oni...</td>\n",
       "    </tr>\n",
       "    <tr>\n",
       "      <th>2</th>\n",
       "      <td>1</td>\n",
       "      <td>Free entry in 2 a wkly comp to win FA Cup fina...</td>\n",
       "    </tr>\n",
       "    <tr>\n",
       "      <th>3</th>\n",
       "      <td>0</td>\n",
       "      <td>U dun say so early hor... U c already then say...</td>\n",
       "    </tr>\n",
       "    <tr>\n",
       "      <th>4</th>\n",
       "      <td>0</td>\n",
       "      <td>Nah I don't think he goes to usf, he lives aro...</td>\n",
       "    </tr>\n",
       "    <tr>\n",
       "      <th>...</th>\n",
       "      <td>...</td>\n",
       "      <td>...</td>\n",
       "    </tr>\n",
       "    <tr>\n",
       "      <th>5567</th>\n",
       "      <td>1</td>\n",
       "      <td>This is the 2nd time we have tried 2 contact u...</td>\n",
       "    </tr>\n",
       "    <tr>\n",
       "      <th>5568</th>\n",
       "      <td>0</td>\n",
       "      <td>Will Ì_ b going to esplanade fr home?</td>\n",
       "    </tr>\n",
       "    <tr>\n",
       "      <th>5569</th>\n",
       "      <td>0</td>\n",
       "      <td>Pity, * was in mood for that. So...any other s...</td>\n",
       "    </tr>\n",
       "    <tr>\n",
       "      <th>5570</th>\n",
       "      <td>0</td>\n",
       "      <td>The guy did some bitching but I acted like i'd...</td>\n",
       "    </tr>\n",
       "    <tr>\n",
       "      <th>5571</th>\n",
       "      <td>0</td>\n",
       "      <td>Rofl. Its true to its name</td>\n",
       "    </tr>\n",
       "  </tbody>\n",
       "</table>\n",
       "<p>5572 rows × 2 columns</p>\n",
       "</div>"
      ],
      "text/plain": [
       "      label                                                msg\n",
       "0         0  Go until jurong point, crazy.. Available only ...\n",
       "1         0                      Ok lar... Joking wif u oni...\n",
       "2         1  Free entry in 2 a wkly comp to win FA Cup fina...\n",
       "3         0  U dun say so early hor... U c already then say...\n",
       "4         0  Nah I don't think he goes to usf, he lives aro...\n",
       "...     ...                                                ...\n",
       "5567      1  This is the 2nd time we have tried 2 contact u...\n",
       "5568      0              Will Ì_ b going to esplanade fr home?\n",
       "5569      0  Pity, * was in mood for that. So...any other s...\n",
       "5570      0  The guy did some bitching but I acted like i'd...\n",
       "5571      0                         Rofl. Its true to its name\n",
       "\n",
       "[5572 rows x 2 columns]"
      ]
     },
     "execution_count": 2,
     "metadata": {},
     "output_type": "execute_result"
    }
   ],
   "source": [
    "df = pd.read_csv('clean_data.csv')\n",
    "df"
   ]
  },
  {
   "cell_type": "code",
   "execution_count": null,
   "metadata": {},
   "outputs": [],
   "source": [
    "text_data = df['msg']\n",
    "labels = df['label']\n",
    "\n",
    "# Local Feature Extraction (CNN)\n",
    "def extract_cnn_features(texts):\n",
    "    tokenizer = Tokenizer()\n",
    "    tokenizer.fit_on_texts(texts)\n",
    "    sequences = tokenizer.texts_to_sequences(texts)\n",
    "    padded_sequences = pad_sequences(sequences, maxlen=50)  # Adjust maxlen as needed\n",
    "\n",
    "    model_cnn = Sequential()\n",
    "    model_cnn.add(Embedding(input_dim=len(tokenizer.word_index) + 1, output_dim=50, input_length=50))\n",
    "    model_cnn.add(Conv1D(64, kernel_size=3, activation='relu'))\n",
    "    model_cnn.add(GlobalMaxPooling1D())\n",
    "    cnn_features = model_cnn.predict(padded_sequences)\n",
    "    return cnn_features\n",
    "\n",
    "# Temporal Feature Extraction (LSTM)\n",
    "def extract_lstm_features(texts):\n",
    "    tokenizer = Tokenizer()\n",
    "    tokenizer.fit_on_texts(texts)\n",
    "    sequences = tokenizer.texts_to_sequences(texts)\n",
    "    padded_sequences = pad_sequences(sequences, maxlen=50)  # Adjust maxlen as needed\n",
    "\n",
    "    model_lstm = Sequential()\n",
    "    model_lstm.add(Embedding(input_dim=len(tokenizer.word_index) + 1, output_dim=50, input_length=50))\n",
    "    model_lstm.add(LSTM(64, dropout=0.2))\n",
    "    lstm_features = model_lstm.predict(padded_sequences)\n",
    "    return lstm_features\n",
    "\n",
    "# Global Feature Extraction (TF-IDF)\n",
    "def extract_tfidf_features(texts):\n",
    "    vectorizer = TfidfVectorizer()\n",
    "    tfidf_features = vectorizer.fit_transform(texts)\n",
    "    return tfidf_features.toarray()"
   ]
  },
  {
   "cell_type": "code",
   "execution_count": null,
   "metadata": {},
   "outputs": [
    {
     "name": "stdout",
     "output_type": "stream",
     "text": [
      "Extracting local features\n",
      "175/175 [==============================] - 0s 1ms/step\n",
      "\n",
      "Extracting temporal features\n",
      "175/175 [==============================] - 2s 7ms/step\n",
      "\n",
      "Extracting global features\n",
      "\n",
      "Data fusion\n"
     ]
    }
   ],
   "source": [
    "# Feature extraction for each data point\n",
    "print(\"Extracting local features\")\n",
    "cnn_features = extract_cnn_features(text_data)\n",
    "\n",
    "print(\"\\nExtracting temporal features\")\n",
    "lstm_features = extract_lstm_features(text_data)\n",
    "\n",
    "print(\"\\nExtracting global features\")\n",
    "tfidf_features = extract_tfidf_features(text_data)\n",
    "\n",
    "# Feature Fusion\n",
    "print(\"\\nData fusion\")\n",
    "concatenated_features = np.concatenate([cnn_features, lstm_features, tfidf_features], axis=1)"
   ]
  },
  {
   "cell_type": "code",
   "execution_count": null,
   "metadata": {},
   "outputs": [
    {
     "data": {
      "text/plain": [
       "(5572, 8800)"
      ]
     },
     "metadata": {},
     "output_type": "display_data"
    }
   ],
   "source": [
    "concatenated_features.shape"
   ]
  },
  {
   "cell_type": "code",
   "execution_count": null,
   "metadata": {},
   "outputs": [],
   "source": [
    "X = concatenated_features\n",
    "y = labels"
   ]
  },
  {
   "cell_type": "code",
   "execution_count": null,
   "metadata": {},
   "outputs": [],
   "source": [
    "X_train, X_test, y_train, y_test = train_test_split(X, y, test_size=0.2, random_state=42)"
   ]
  },
  {
   "cell_type": "code",
   "execution_count": null,
   "metadata": {},
   "outputs": [
    {
     "name": "stdout",
     "output_type": "stream",
     "text": [
      "\n",
      "Train the classification model\n",
      "Epoch 1/10\n",
      "140/140 [==============================] - 69s 490ms/step - loss: 0.4094 - accuracy: 0.8636 - val_loss: 0.2968 - val_accuracy: 0.8655\n",
      "Epoch 2/10\n",
      "140/140 [==============================] - 67s 482ms/step - loss: 0.2255 - accuracy: 0.8661 - val_loss: 0.1968 - val_accuracy: 0.8655\n",
      "Epoch 3/10\n",
      "140/140 [==============================] - 67s 479ms/step - loss: 0.1367 - accuracy: 0.9477 - val_loss: 0.1211 - val_accuracy: 0.9677\n",
      "Epoch 4/10\n",
      "140/140 [==============================] - 67s 477ms/step - loss: 0.0677 - accuracy: 0.9895 - val_loss: 0.0845 - val_accuracy: 0.9776\n",
      "Epoch 5/10\n",
      "140/140 [==============================] - 67s 477ms/step - loss: 0.0393 - accuracy: 0.9942 - val_loss: 0.0714 - val_accuracy: 0.9794\n",
      "Epoch 6/10\n",
      "140/140 [==============================] - 64s 459ms/step - loss: 0.0260 - accuracy: 0.9955 - val_loss: 0.0644 - val_accuracy: 0.9812\n",
      "Epoch 7/10\n",
      "140/140 [==============================] - 65s 461ms/step - loss: 0.0183 - accuracy: 0.9973 - val_loss: 0.0608 - val_accuracy: 0.9821\n",
      "Epoch 8/10\n",
      "140/140 [==============================] - 66s 471ms/step - loss: 0.0134 - accuracy: 0.9993 - val_loss: 0.0606 - val_accuracy: 0.9812\n",
      "Epoch 9/10\n",
      "140/140 [==============================] - 65s 461ms/step - loss: 0.0101 - accuracy: 0.9996 - val_loss: 0.0582 - val_accuracy: 0.9821\n",
      "Epoch 10/10\n",
      "140/140 [==============================] - 64s 461ms/step - loss: 0.0078 - accuracy: 0.9998 - val_loss: 0.0616 - val_accuracy: 0.9803\n"
     ]
    },
    {
     "data": {
      "text/plain": [
       "<keras.src.callbacks.History at 0x201118512b0>"
      ]
     },
     "metadata": {},
     "output_type": "display_data"
    }
   ],
   "source": [
    "# Attention Mechanism\n",
    "input_layer = Input(shape=(concatenated_features.shape[1],))\n",
    "attention_probs = Dense(concatenated_features.shape[1], activation='softmax', name='attention_probs')(input_layer)\n",
    "attention_mul = concatenate([input_layer, attention_probs], name='attention_mul')\n",
    "\n",
    "# Classifier\n",
    "output_layer = Dense(32, activation='relu')(attention_mul)\n",
    "output_layer = Dense(1, activation='sigmoid')(output_layer)\n",
    "\n",
    "# Model\n",
    "model = Model(inputs=input_layer, outputs=output_layer)\n",
    "model.compile(loss='binary_crossentropy', optimizer='adam', metrics=['accuracy'])\n",
    "\n",
    "# Train the model\n",
    "print(\"\\nTrain the classification model\")\n",
    "model.fit(X_train, y_train, validation_data= (X_test, y_test), epochs=10)"
   ]
  },
  {
   "cell_type": "code",
   "execution_count": null,
   "metadata": {},
   "outputs": [
    {
     "name": "stdout",
     "output_type": "stream",
     "text": [
      "Classification report for the classification model\n",
      "35/35 [==============================] - 1s 23ms/step\n",
      "              precision    recall  f1-score   support\n",
      "\n",
      "           0       0.98      1.00      0.99       965\n",
      "           1       0.99      0.86      0.92       150\n",
      "\n",
      "    accuracy                           0.98      1115\n",
      "   macro avg       0.99      0.93      0.96      1115\n",
      "weighted avg       0.98      0.98      0.98      1115\n",
      "\n"
     ]
    }
   ],
   "source": [
    "from sklearn.metrics import classification_report, confusion_matrix\n",
    "import matplotlib.pyplot as plt \n",
    "import seaborn as sns\n",
    "\n",
    "print('Classification report for the classification model')\n",
    "\n",
    "y_pred = model.predict(X_test).round()\n",
    "\n",
    "print(classification_report(y_test, y_pred))"
   ]
  },
  {
   "cell_type": "code",
   "execution_count": null,
   "metadata": {},
   "outputs": [
    {
     "data": {
      "image/png": "[encoded data removed]",
      "text/plain": [
       "<Figure size 800x500 with 2 Axes>"
      ]
     },
     "metadata": {},
     "output_type": "display_data"
    }
   ],
   "source": [
    "# Confusion matrix of MNB model\n",
    "cm = confusion_matrix(y_test, y_pred)\n",
    "\n",
    "plt.figure(figsize=(8,5))\n",
    "axis_labels = ['ham', 'spam']\n",
    "g = sns.heatmap(data=cm, annot=True, cmap=\"Blues\", xticklabels=axis_labels, yticklabels=axis_labels, fmt='g', cbar_kws={\"shrink\": 0.5})\n",
    "p = plt.xlabel('Actual values')\n",
    "p = plt.ylabel('Predicted values')\n",
    "p = plt.title('Confusion Matrix')"
   ]
  }
 ],
 "metadata": {
  "kernelspec": {
   "display_name": "Python 3",
   "language": "python",
   "name": "python3"
  },
  "language_info": {
   "codemirror_mode": {
    "name": "ipython",
    "version": 3
   },
   "file_extension": ".py",
   "mimetype": "text/x-python",
   "name": "python",
   "nbconvert_exporter": "python",
   "pygments_lexer": "ipython3",
   "version": "3.9.5"
  }
 },
 "nbformat": 4,
 "nbformat_minor": 2
}
